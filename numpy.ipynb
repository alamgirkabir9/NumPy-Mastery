{
 "cells": [
  {
   "cell_type": "markdown",
   "metadata": {},
   "source": [
    "                                                           NumPy Mastery Roadmap                                                "
   ]
  },
  {
   "cell_type": "markdown",
   "metadata": {},
   "source": [
    "Introduction:\n",
    "NumPy (Numerical Python) is a powerful open-source library for numerical computing in Python. It provides support for large, multi-dimensional arrays and matrices, along with a collection of mathematical functions to operate on these structures efficiently. NumPy is widely used in scientific computing, data analysis, artificial intelligence, and machine learning, making it an essential tool for researchers, engineers, and developers."
   ]
  },
  {
   "cell_type": "markdown",
   "metadata": {},
   "source": [
    "1.How to install the Numpy "
   ]
  },
  {
   "cell_type": "code",
   "execution_count": 1,
   "metadata": {},
   "outputs": [
    {
     "name": "stdout",
     "output_type": "stream",
     "text": [
      "Requirement already satisfied: numpy in c:\\users\\alamgir\\appdata\\local\\programs\\python\\python312\\lib\\site-packages (1.26.4)\n",
      "Note: you may need to restart the kernel to use updated packages.\n"
     ]
    },
    {
     "name": "stderr",
     "output_type": "stream",
     "text": [
      "\n",
      "[notice] A new release of pip is available: 24.2 -> 25.0.1\n",
      "[notice] To update, run: python.exe -m pip install --upgrade pip\n"
     ]
    }
   ],
   "source": [
    "pip install numpy"
   ]
  },
  {
   "cell_type": "markdown",
   "metadata": {},
   "source": [
    "2.Basic NumPy Operations\n",
    "  * Creating NumPy Arrays"
   ]
  },
  {
   "cell_type": "code",
   "execution_count": 2,
   "metadata": {},
   "outputs": [
    {
     "name": "stdout",
     "output_type": "stream",
     "text": [
      "[1 2 3 4 5]\n",
      "[[1 2 3]\n",
      " [4 5 6]]\n"
     ]
    }
   ],
   "source": [
    "import numpy as np\n",
    "# Creating a 1D array\n",
    "arr1d = np.array([1, 2, 3, 4, 5])\n",
    "print(arr1d)\n",
    "\n",
    "# Creating a 2D array\n",
    "arr2d = np.array([[1, 2, 3], [4, 5, 6]])\n",
    "print(arr2d)"
   ]
  },
  {
   "cell_type": "markdown",
   "metadata": {},
   "source": [
    " Checking Array Properties"
   ]
  },
  {
   "cell_type": "code",
   "execution_count": 3,
   "metadata": {},
   "outputs": [
    {
     "name": "stdout",
     "output_type": "stream",
     "text": [
      "(5,)\n",
      "(2, 3)\n",
      "int32\n",
      "int32\n",
      "1\n",
      "2\n"
     ]
    }
   ],
   "source": [
    "print(arr1d.shape)  # (5,)\n",
    "print(arr2d.shape)  # (2,3)\n",
    "print(arr1d.dtype)  # int32 or int64 depending on the system\n",
    "print(arr2d.dtype)  # int32 or int64 depending on the system\n",
    "print(arr1d.ndim)   # Number of dimensions 1\n",
    "print(arr2d.ndim)   # Number of dimensions  2"
   ]
  },
  {
   "cell_type": "markdown",
   "metadata": {},
   "source": [
    "Special Arrays\n",
    "  * Zeros Array\n",
    "  * Ones Array\n",
    "  * Identity Matrix\n",
    "  * Random Array"
   ]
  },
  {
   "cell_type": "code",
   "execution_count": 4,
   "metadata": {},
   "outputs": [
    {
     "name": "stdout",
     "output_type": "stream",
     "text": [
      "[[0. 0. 0.]\n",
      " [0. 0. 0.]\n",
      " [0. 0. 0.]]\n"
     ]
    }
   ],
   "source": [
    "#zero array\n",
    "print(np.zeros((3,3))) #Creates a 3×3 matrix filled with zeros\n",
    "                       #Used as a placeholder or initialization for matrices when no values are available yet."
   ]
  },
  {
   "cell_type": "code",
   "execution_count": 5,
   "metadata": {},
   "outputs": [
    {
     "name": "stdout",
     "output_type": "stream",
     "text": [
      "[[1. 1. 1.]\n",
      " [1. 1. 1.]]\n"
     ]
    }
   ],
   "source": [
    "#ones array\n",
    "print(np.ones((2,3)))#Creates a 2×3 matrix filled with ones.\n",
    "                     #Often used for initializing weights in neural networks or for mathematical operations."
   ]
  },
  {
   "cell_type": "code",
   "execution_count": 6,
   "metadata": {},
   "outputs": [
    {
     "name": "stdout",
     "output_type": "stream",
     "text": [
      "[[1. 0. 0.]\n",
      " [0. 1. 0.]\n",
      " [0. 0. 1.]]\n"
     ]
    }
   ],
   "source": [
    "#Identity Matrix\n",
    "print(np.eye(3)) #Creates a 3×3 identity matrix (diagonal elements are 1, rest are 0).\n",
    "                 #Identity matrices are useful in linear algebra, matrix transformations, and neural network computations.\n"
   ]
  },
  {
   "cell_type": "markdown",
   "metadata": {},
   "source": [
    "3. Array Operations\n",
    "   * Addition\n",
    "   * Subtraction\n",
    "   * Multiplication\n",
    "   * Division \n",
    "   * Power \n",
    "   * Modulo\n",
    "   * Matrix Multiplication"
   ]
  },
  {
   "cell_type": "code",
   "execution_count": 7,
   "metadata": {},
   "outputs": [
    {
     "name": "stdout",
     "output_type": "stream",
     "text": [
      "[3 4 5 6]\n",
      "[5 7 9]\n"
     ]
    }
   ],
   "source": [
    "# Addition\n",
    "import numpy as np\n",
    "\n",
    "arr = np.array([1, 2, 3, 4])\n",
    "print(arr + 2)  # Adds 2 to each element[3 4 5 6]\n",
    "\n",
    "arr1 = np.array([1, 2, 3])\n",
    "arr2 = np.array([4, 5, 6])\n",
    "print(arr1 + arr2)  # Element-wise addition[5 7 9]"
   ]
  },
  {
   "cell_type": "code",
   "execution_count": 8,
   "metadata": {},
   "outputs": [
    {
     "name": "stdout",
     "output_type": "stream",
     "text": [
      "[0 1 2 3]\n",
      "[3 3 3]\n"
     ]
    }
   ],
   "source": [
    "#Subtraction\n",
    "import numpy as np\n",
    "\n",
    "arr = np.array([1, 2, 3, 4])\n",
    "print(arr - 1)  # subtract 2 to each element[0 1 2 3]\n",
    "\n",
    "arr1 = np.array([1, 2, 3])\n",
    "arr2 = np.array([4, 5, 6])\n",
    "print(arr2-arr1)  # Element-wise subtract[3 3 3]"
   ]
  },
  {
   "cell_type": "code",
   "execution_count": 9,
   "metadata": {},
   "outputs": [
    {
     "name": "stdout",
     "output_type": "stream",
     "text": [
      "[2 4 6 8]\n",
      "[ 4 10 18]\n"
     ]
    }
   ],
   "source": [
    "#Multiplication\n",
    "import numpy as np\n",
    "\n",
    "arr = np.array([1, 2, 3, 4])\n",
    "print(arr * 2)  # Multiply 2 to each element[2 4 6 8]\n",
    "\n",
    "arr1 = np.array([1, 2, 3])\n",
    "arr2 = np.array([4, 5, 6])\n",
    "print(arr2 * arr1)  # Element-wise multiply[4 10 18]"
   ]
  },
  {
   "cell_type": "code",
   "execution_count": 10,
   "metadata": {},
   "outputs": [
    {
     "name": "stdout",
     "output_type": "stream",
     "text": [
      "[1. 2. 3. 4.]\n",
      "[4.         5.         5.83333333]\n"
     ]
    }
   ],
   "source": [
    "#Division\n",
    "import numpy as np\n",
    "\n",
    "arr = np.array([2, 4, 6, 8])\n",
    "print(arr / 2)  # divided by 2 to each element[1. 2. 3. 4.]\n",
    "\n",
    "arr1 = np.array([16, 25, 35])\n",
    "arr2 = np.array([4, 5, 6])\n",
    "print(arr1 / arr2)  # Element-wise divided[4. 5. 5.83333333]"
   ]
  },
  {
   "cell_type": "code",
   "execution_count": 11,
   "metadata": {},
   "outputs": [
    {
     "name": "stdout",
     "output_type": "stream",
     "text": [
      "[ 4 16 36 64]\n"
     ]
    }
   ],
   "source": [
    "#power\n",
    "A = np.array([2, 4, 6, 8])\n",
    "print(A ** 2)  # Square of each element\n"
   ]
  },
  {
   "cell_type": "code",
   "execution_count": 12,
   "metadata": {},
   "outputs": [
    {
     "name": "stdout",
     "output_type": "stream",
     "text": [
      "[2 1 0 2]\n"
     ]
    }
   ],
   "source": [
    "#Modulo\n",
    "A = np.array([2, 4, 6, 8])\n",
    "print(A % 3) #Computes remainder for each element.\n"
   ]
  },
  {
   "cell_type": "code",
   "execution_count": 13,
   "metadata": {},
   "outputs": [
    {
     "name": "stdout",
     "output_type": "stream",
     "text": [
      "[[19 22]\n",
      " [43 50]]\n"
     ]
    }
   ],
   "source": [
    "#Matrix Multiplication\n",
    "A = np.array([[1, 2], [3, 4]])      \n",
    "B = np.array([[5, 6], [7, 8]])\n",
    "print(np.dot(A, B))   #This performs actual matrix multiplication, not element-wise multiplication"
   ]
  },
  {
   "cell_type": "markdown",
   "metadata": {},
   "source": [
    "4. Indexing and Slicing\n",
    "   * 1D Array Indexing\n",
    "   * 2D Array Indexing\n",
    "   * Boolean Indexing\n",
    "   * Slicing formula\n",
    "   * 1D Array Slicing\n",
    "   * 2D Array Slicing"
   ]
  },
  {
   "cell_type": "code",
   "execution_count": 14,
   "metadata": {},
   "outputs": [
    {
     "name": "stdout",
     "output_type": "stream",
     "text": [
      "10\n",
      "30\n",
      "50\n"
     ]
    }
   ],
   "source": [
    "# 1d array indexing\n",
    "import numpy as np\n",
    "arr = np.array([10, 20, 30, 40, 50])\n",
    "\n",
    "print(arr[0])   # First element (index 0)(10)\n",
    "print(arr[2])   # Third element (index 2)(30)\n",
    "print(arr[-1])  # Last element (negative index)(50)\n"
   ]
  },
  {
   "cell_type": "code",
   "execution_count": 15,
   "metadata": {},
   "outputs": [
    {
     "name": "stdout",
     "output_type": "stream",
     "text": [
      "1\n",
      "6\n",
      "9\n"
     ]
    }
   ],
   "source": [
    "# 2d array indexing\n",
    "mat = np.array([[1, 2, 3], [4, 5, 6], [7, 8, 9]])\n",
    "\n",
    "print(mat[0, 0])  # First row, first column (1)\n",
    "print(mat[1, 2])  # Second row, third column (6)\n",
    "print(mat[-1, -1])  # Last row, last column (9)\n"
   ]
  },
  {
   "cell_type": "code",
   "execution_count": 20,
   "metadata": {},
   "outputs": [
    {
     "name": "stdout",
     "output_type": "stream",
     "text": [
      "[30 40 50]\n",
      "[20 40]\n"
     ]
    }
   ],
   "source": [
    "#Boolean Indexing\n",
    "arr = np.array([10, 20, 30, 40, 50])\n",
    "\n",
    "print(arr[arr > 25])  # Get values greater than 25\n",
    "print(arr[arr % 20 == 0])  # Get values divisible by 20\n"
   ]
  },
  {
   "cell_type": "markdown",
   "metadata": {},
   "source": [
    "Slicing Formula\n",
    " * array[start:stop:step]\n",
    " * start: Where slicing begins (inclusive)\n",
    " * stop: Where slicing stops (exclusive)\n",
    " * step: Interval between elements "
   ]
  },
  {
   "cell_type": "code",
   "execution_count": 18,
   "metadata": {},
   "outputs": [
    {
     "name": "stdout",
     "output_type": "stream",
     "text": [
      "[20 30 40]\n",
      "[10 20 30]\n",
      "[30 40 50 60]\n",
      "[10 30 50]\n",
      "[60 50 40 30 20 10]\n",
      "[10 30 50]\n",
      "[10 20 30 40 50 60]\n"
     ]
    }
   ],
   "source": [
    "#1D Array Slicing\n",
    "arr = np.array([10, 20, 30, 40, 50, 60])\n",
    "\n",
    "print(arr[1:4])   # Elements from index 1 to 3\n",
    "print(arr[:3])    # First three elements\n",
    "print(arr[2:])    # Elements from index 2 to end\n",
    "print(arr[::2])   # Every second element\n",
    "print(arr[::-1])  # Reverse the array\n",
    "print(arr[0:5:2])\n",
    "print(arr[0:len(arr)])"
   ]
  },
  {
   "cell_type": "code",
   "execution_count": 19,
   "metadata": {},
   "outputs": [
    {
     "name": "stdout",
     "output_type": "stream",
     "text": [
      "[[1 2]\n",
      " [4 5]]\n",
      "[[5 6]\n",
      " [8 9]]\n",
      "[2 5 8]\n",
      "[4 5 6]\n"
     ]
    }
   ],
   "source": [
    "#2D array slicing\n",
    "mat = np.array([[1, 2, 3], \n",
    "                [4, 5, 6], \n",
    "                [7, 8, 9]])\n",
    "\n",
    "print(mat[:2, :2])  # Top-left 2×2 submatrix\n",
    "print(mat[1:, 1:])  # Bottom-right 2×2 submatrix\n",
    "print(mat[:, 1])    # Second column (all rows)\n",
    "print(mat[1, :])    # Second row (all columns)\n"
   ]
  },
  {
   "cell_type": "markdown",
   "metadata": {},
   "source": [
    "5. Reshaping and Manipulating Arrays"
   ]
  },
  {
   "cell_type": "code",
   "execution_count": 21,
   "metadata": {},
   "outputs": [
    {
     "name": "stdout",
     "output_type": "stream",
     "text": [
      "[[0 1 2]\n",
      " [3 4 5]\n",
      " [6 7 8]]\n",
      "[0 1 2 3 4 5 6 7 8]\n"
     ]
    }
   ],
   "source": [
    "arr = np.arange(9)  # Creates an array from 0 to 8\n",
    "reshaped_arr = arr.reshape((3, 3))  # Reshape to 3x3 matrix\n",
    "print(reshaped_arr)\n",
    "\n",
    "# Flattening an array\n",
    "flattened = reshaped_arr.flatten()\n",
    "print(flattened)"
   ]
  },
  {
   "cell_type": "markdown",
   "metadata": {},
   "source": [
    "6. Statistical and Mathematical Functions\n",
    "   * Mean\n",
    "   * Median\n",
    "   * Standard deviation\n",
    "   * Sum of elements\n",
    "   * Minimum and maximum"
   ]
  },
  {
   "cell_type": "code",
   "execution_count": 23,
   "metadata": {},
   "outputs": [
    {
     "name": "stdout",
     "output_type": "stream",
     "text": [
      "3.0\n",
      "3.0\n",
      "1.4142135623730951\n",
      "15\n",
      "1 5\n"
     ]
    }
   ],
   "source": [
    "import numpy as np\n",
    "\n",
    "arr = np.array([1,2,3,4,5]) # 1D array\n",
    "\n",
    "print(np.mean(arr))  # Mean: (sum of all elements) / (total number of elements)\n",
    "print(np.median(arr))  # Median: Middle value when elements are sorted\n",
    "print(np.std(arr))  # Standard Deviation: sqrt(mean((x - mean)^2))\n",
    "print(np.sum(arr))  # Sum: Total of all elements\n",
    "print(np.min(arr), np.max(arr))  # Minimum and Maximum values in the array\n"
   ]
  },
  {
   "cell_type": "code",
   "execution_count": 24,
   "metadata": {},
   "outputs": [
    {
     "name": "stdout",
     "output_type": "stream",
     "text": [
      "3.5\n",
      "3.5\n",
      "1.707825127659933\n",
      "21\n",
      "1 6\n"
     ]
    }
   ],
   "source": [
    "import numpy as np\n",
    "\n",
    "arr = np.array([[1, 2, 3], [4, 5, 6]]) # 2D array \n",
    "\n",
    "print(np.mean(arr))  # Mean: (sum of all elements) / (total number of elements)\n",
    "print(np.median(arr))  # Median: Middle value when elements are sorted\n",
    "print(np.std(arr))  # Standard Deviation: sqrt(mean((x - mean)^2))\n",
    "print(np.sum(arr))  # Sum: Total of all elements\n",
    "print(np.min(arr), np.max(arr))  # Minimum and Maximum values in the array\n"
   ]
  },
  {
   "cell_type": "markdown",
   "metadata": {},
   "source": [
    "7.Broadcasting\n",
    "  * What is Broadcasting\n",
    "    * Broadcasting allows NumPy to perform operations between arrays of different shapes without explicitly reshaping them. It automatically expands smaller arrays to match the shape of larger ones during arithmetic operations"
   ]
  },
  {
   "cell_type": "code",
   "execution_count": 25,
   "metadata": {},
   "outputs": [
    {
     "name": "stdout",
     "output_type": "stream",
     "text": [
      "[[11 22 33]\n",
      " [14 25 36]]\n"
     ]
    }
   ],
   "source": [
    "import numpy as np\n",
    "\n",
    "arr = np.array([[1, 2, 3], \n",
    "                [4, 5, 6]])\n",
    "\n",
    "b = np.array([10, 20, 30])  # 1D array\n",
    "\n",
    "result = arr + b  # Broadcasting: b is expanded across rows\n",
    "print(result)\n"
   ]
  },
  {
   "cell_type": "code",
   "execution_count": 26,
   "metadata": {},
   "outputs": [
    {
     "name": "stdout",
     "output_type": "stream",
     "text": [
      "[5 7 9]\n",
      "[ 6 15]\n"
     ]
    }
   ],
   "source": [
    "arr = np.array([[1, 2, 3], \n",
    "                [4, 5, 6]])\n",
    "\n",
    "print(np.sum(arr, axis=0))  # Sum along columns\n",
    "print(np.sum(arr, axis=1))  # Sum along rows\n"
   ]
  },
  {
   "cell_type": "code",
   "execution_count": 27,
   "metadata": {},
   "outputs": [
    {
     "name": "stdout",
     "output_type": "stream",
     "text": [
      "[[11 12 13]\n",
      " [14 15 16]]\n"
     ]
    }
   ],
   "source": [
    "arr = np.array([[1, 2, 3], \n",
    "                [4, 5, 6]])\n",
    "\n",
    "print(arr + 10)  # Broadcasting a scalar\n"
   ]
  },
  {
   "cell_type": "markdown",
   "metadata": {},
   "source": [
    "8.Matrix Operations in NumPy\n",
    "  * Matrix Multiplication\n",
    "  * Matrix Inverse\n",
    "  * Determinant"
   ]
  },
  {
   "cell_type": "code",
   "execution_count": 28,
   "metadata": {},
   "outputs": [
    {
     "name": "stdout",
     "output_type": "stream",
     "text": [
      "[[19 22]\n",
      " [43 50]]\n"
     ]
    }
   ],
   "source": [
    "import numpy as np\n",
    "\n",
    "A = np.array([[1, 2], [3, 4]])\n",
    "B = np.array([[5, 6], [7, 8]])\n",
    "\n",
    "# Matrix multiplication\n",
    "print(np.dot(A, B))\n"
   ]
  },
  {
   "cell_type": "code",
   "execution_count": 29,
   "metadata": {},
   "outputs": [
    {
     "name": "stdout",
     "output_type": "stream",
     "text": [
      "[[-2.   1. ]\n",
      " [ 1.5 -0.5]]\n"
     ]
    }
   ],
   "source": [
    "#Matrix inverse\n",
    "A = np.array([[1, 2], [3, 4]])\n",
    "print(np.linalg.inv(A))\n"
   ]
  },
  {
   "cell_type": "code",
   "execution_count": 30,
   "metadata": {},
   "outputs": [
    {
     "name": "stdout",
     "output_type": "stream",
     "text": [
      "-2.0000000000000004\n"
     ]
    }
   ],
   "source": [
    "# Determinant\n",
    "A = np.array([[1, 2], [3, 4]])\n",
    "print(np.linalg.det(A))\n"
   ]
  },
  {
   "cell_type": "markdown",
   "metadata": {},
   "source": [
    "9. Working with Missing Data"
   ]
  },
  {
   "cell_type": "code",
   "execution_count": 31,
   "metadata": {},
   "outputs": [
    {
     "name": "stdout",
     "output_type": "stream",
     "text": [
      "[False False  True False False]\n",
      "3.0\n"
     ]
    }
   ],
   "source": [
    "arr = np.array([1, 2, np.nan, 4, 5])\n",
    "print(np.isnan(arr))  # Identifying NaN values\n",
    "print(np.nanmean(arr))  # Mean ignoring NaN values"
   ]
  },
  {
   "cell_type": "markdown",
   "metadata": {},
   "source": [
    "10. Saving and Loading Data"
   ]
  },
  {
   "cell_type": "code",
   "execution_count": 32,
   "metadata": {},
   "outputs": [
    {
     "name": "stdout",
     "output_type": "stream",
     "text": [
      "[[1 2 3]\n",
      " [4 5 6]]\n"
     ]
    }
   ],
   "source": [
    "arr = np.array([[1, 2, 3], [4, 5, 6]])\n",
    "np.save('array.npy', arr)  # Save as .npy file\n",
    "loaded_arr = np.load('array.npy')  # Load the file\n",
    "print(loaded_arr)"
   ]
  },
  {
   "cell_type": "code",
   "execution_count": null,
   "metadata": {},
   "outputs": [],
   "source": []
  }
 ],
 "metadata": {
  "kernelspec": {
   "display_name": "Python 3",
   "language": "python",
   "name": "python3"
  },
  "language_info": {
   "codemirror_mode": {
    "name": "ipython",
    "version": 3
   },
   "file_extension": ".py",
   "mimetype": "text/x-python",
   "name": "python",
   "nbconvert_exporter": "python",
   "pygments_lexer": "ipython3",
   "version": "3.12.0"
  }
 },
 "nbformat": 4,
 "nbformat_minor": 2
}
